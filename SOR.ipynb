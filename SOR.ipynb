{
 "cells": [
  {
   "cell_type": "markdown",
   "metadata": {},
   "source": [
    "## <div style=\"text-align: center\">Successive Over-Relaxation</div>"
   ]
  },
  {
   "cell_type": "code",
   "execution_count": 10,
   "metadata": {},
   "outputs": [
    {
     "data": {
      "text/plain": [
       "sor (generic function with 3 methods)"
      ]
     },
     "execution_count": 10,
     "metadata": {},
     "output_type": "execute_result"
    }
   ],
   "source": [
    "function sor(A, b, ω, tol = 1e-10, maxiter = 100000)\n",
    "    n = size(A,2)\n",
    "    assert(size(A)==(n,n))\n",
    "    \n",
    "    ϕ = zeros(n)  # initial guess\n",
    "    iter = 0 \n",
    "    \n",
    "    while (norm(b - A*ϕ, 2) > tol) && (iter <= maxiter)\n",
    "\n",
    "        if iter == maxiter\n",
    "            println(\"Maximum number of iterations reached: $(iter)\")\n",
    "            return ϕ, iter\n",
    "        end\n",
    "        \n",
    "        for i = 1:n\n",
    "            \n",
    "            σ = 0\n",
    "            for j = 1:n\n",
    "                if j != i\n",
    "                   σ += A[i, j]*ϕ[j]  \n",
    "                end\n",
    "            end\n",
    "            \n",
    "            # ALTERNATIVE IMPLEMENTATION\n",
    "            # ϕ[i] .= (1-ω)*ϕ[i] + ((ω/A[i,i]) * (b[i] - σ))\n",
    "            \n",
    "            # saves one multiplication \n",
    "            ϕ[i] .+= ω*((b[i] - σ)/A[i,i] - ϕ[i])                 \n",
    "\n",
    "        end\n",
    "        \n",
    "        iter += 1\n",
    "    end\n",
    "    \n",
    "    return ϕ, iter\n",
    "end"
   ]
  },
  {
   "cell_type": "code",
   "execution_count": 11,
   "metadata": {},
   "outputs": [
    {
     "data": {
      "text/plain": [
       "eval_err (generic function with 2 methods)"
      ]
     },
     "execution_count": 11,
     "metadata": {},
     "output_type": "execute_result"
    }
   ],
   "source": [
    "function eval_err(n, ω, tol, num_sum = 1000)\n",
    "\n",
    "    err = 0.0\n",
    "    for j = 1:num_sum\n",
    "\n",
    "        # random symmetric, positive definite matrix\n",
    "        A = rand(Float64, n, n)\n",
    "        A += A'\n",
    "        A += n * eye(n)\n",
    "        assert(issymmetric(A) && isposdef(A))\n",
    "        b = rand(Float64, n)\n",
    "        \n",
    "        y = A\\b\n",
    "        ŷ, iter = sor(A, b, ω, tol)\n",
    "        err += norm(ŷ - y) / norm(y)\n",
    "    end\n",
    "\n",
    "    err /= num_sum\n",
    "    \n",
    "    return err  # average error over num_sum iterations\n",
    "end"
   ]
  },
  {
   "cell_type": "code",
   "execution_count": 12,
   "metadata": {},
   "outputs": [
    {
     "data": {
      "text/plain": [
       "eval_t (generic function with 2 methods)"
      ]
     },
     "execution_count": 12,
     "metadata": {},
     "output_type": "execute_result"
    }
   ],
   "source": [
    "function eval_t(n, ω, tol, num_sum = 1000)\n",
    "\n",
    "    t_backslash = 0.0\n",
    "    t_sor =  0.0\n",
    "    \n",
    "    for j = 1:num_sum\n",
    "  \n",
    "        A = rand(Float64, n, n)\n",
    "        A += A'\n",
    "        A += n * eye(n)\n",
    "        assert(issymmetric(A) && isposdef(A))\n",
    "        b = rand(Float64, n)\n",
    "        \n",
    "        t_backslash += @elapsed A\\b\n",
    "        t_sor += @elapsed sor(A, b, ω, tol)\n",
    "    end\n",
    "\n",
    "    t_backslash /= num_sum\n",
    "    t_sor /= num_sum\n",
    "\n",
    "    return t_backslash, t_sor # average time taken for A \\ b, average time taken for SOR\n",
    "end"
   ]
  },
  {
   "cell_type": "markdown",
   "metadata": {},
   "source": [
    "### Measure the performance of SOR vs. Julia's built-in A \\ b \n",
    "\n",
    "Solve several linear systems using Julia's built-in backslash operator and our implementation of SOR\n",
    "\n",
    "Compare average time and error of the different implementations"
   ]
  },
  {
   "cell_type": "code",
   "execution_count": 13,
   "metadata": {},
   "outputs": [
    {
     "name": "stdout",
     "output_type": "stream",
     "text": [
      "\n",
      "A \\ b ≈ SOR?  true\n",
      "\n",
      "Converged in 25 iterations\n",
      "\n",
      "Comparison between A \\ b and SOR\n",
      "------------------------------------\n",
      "A: n = 10, ω = 1.25\n",
      "\n",
      "time for A \\ b: \t2.774039e-06 seconds\n",
      "time for SOR: \t\t2.140475e-04 seconds\n",
      "\n",
      "A \\ b is 77.16094 times faster than SOR\n",
      "------------------------------------\n",
      "Average error in SOR vs. A \\ b = 0.0000000046%\n",
      "\n"
     ]
    }
   ],
   "source": [
    "n = 10\n",
    "\n",
    "# Create symmetric, positive definite matrix\n",
    "A = rand(Float64, n, n)\n",
    "A += A'\n",
    "A += n * eye(n)\n",
    "assert(issymmetric(A) && isposdef(A))\n",
    "\n",
    "b = rand(Float64, n)\n",
    "ω = 1.25\n",
    "assert(0 < ω < 2)\n",
    "tol = 1e-10\n",
    "x = A \\ b\n",
    "ϕ, iter = sor(A, b, ω, tol)\n",
    "\n",
    "\n",
    "println(\"\\nA \\\\\\ b ≈ SOR?  $(x ≈ ϕ)\\n\")\n",
    "println(\"Converged in $(iter) iterations\")\n",
    "\n",
    "err = eval_err(n, ω, tol)\n",
    "\n",
    "# Measure the performance of SOR vs. julia's built-in backslash operator\n",
    "t_backslash, t_sor = eval_t(n, ω, tol)\n",
    "t_ratio = t_backslash / t_sor\n",
    "\n",
    "\n",
    "# Print the measurement result.\n",
    "println(\"\\nComparison between A \\\\\\ b and SOR\")\n",
    "println(\"------------------------------------\")\n",
    "println(\"A: n = $n, ω = $ω\\n\")\n",
    "\n",
    "@printf \"time for A \\\\\\ b: \\t%e seconds\\n\" t_backslash\n",
    "@printf \"time for SOR: \\t\\t%e seconds\\n\\n\" t_sor\n",
    "\n",
    "@printf \"A \\\\\\ b is %.5f times faster than SOR\" 1/t_ratio\n",
    "println(\"\\n------------------------------------\")\n",
    "@printf \"Average error in SOR vs. A \\\\\\ b = %.10f%%\\n\\n\" 100err"
   ]
  },
  {
   "cell_type": "code",
   "execution_count": null,
   "metadata": {},
   "outputs": [],
   "source": []
  }
 ],
 "metadata": {
  "anaconda-cloud": {},
  "kernelspec": {
   "display_name": "Julia 0.6.2",
   "language": "julia",
   "name": "julia-0.6"
  },
  "language_info": {
   "file_extension": ".jl",
   "mimetype": "application/julia",
   "name": "julia",
   "version": "0.6.2"
  }
 },
 "nbformat": 4,
 "nbformat_minor": 1
}
